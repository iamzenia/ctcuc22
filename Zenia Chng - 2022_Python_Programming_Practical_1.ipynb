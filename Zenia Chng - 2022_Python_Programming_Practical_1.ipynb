{
 "cells": [
  {
   "cell_type": "markdown",
   "metadata": {
    "id": "jp3BkDml8xiR"
   },
   "source": [
    "# **2022 Python Programming Practical 1**\n",
    "\n",
    "If you do not have one already, create a [GitHub](https://github.com) account.\n",
    "\n",
    "Create a public repository ctcuc22\n",
    "\n",
    "File --> Save a copy in GitHub under this repository\n",
    "\n",
    "For the following questions,\n",
    "\n",
    "*   standard input: keyboard\n",
    "*   standard output: screen\n",
    "\n"
   ]
  },
  {
   "cell_type": "markdown",
   "metadata": {
    "id": "-U8w0oQW9P_b"
   },
   "source": [
    "**Q1. (Converting Fahrenheit to Celsius)**\n",
    "\n",
    "Write a program that reads a Fahrenheit degree as a float from standard input, then converts it to Celsius and displays the result in standard output. The formula for the conversion is:\n",
    "```\n",
    "celsius = (5/9) * (fahrenheit - 32)\n",
    "```"
   ]
  },
  {
   "cell_type": "code",
   "execution_count": 17,
   "metadata": {
    "id": "D0uTR7B-8qbF"
   },
   "outputs": [
    {
     "name": "stdout",
     "output_type": "stream",
     "text": [
      "What is the temperature in F: 90\n",
      "The temperature in celsius =  32.22\n"
     ]
    }
   ],
   "source": [
    "temperature_F = input(\"What is the temperature in F: \")\n",
    "celsius = (5/9)* (float(temperature_F) - 32)\n",
    "celsius_1dp = \"{:.1f}\".format(celsius)\n",
    "print(\"The temperature in celsius = \", celsius_1dp)"
   ]
  },
  {
   "cell_type": "markdown",
   "metadata": {
    "id": "7Ui5CuS_9Za1"
   },
   "source": [
    "**Q2. (Computing the volume of a cylinder)**\n",
    "\n",
    "Write a program that reads in the radius and length of a cylinder and computes its volume using the formulae:\n",
    "```\n",
    "area = radius * radius * pi\n",
    "volume = area * length\n",
    "```\n",
    "\n",
    "\n"
   ]
  },
  {
   "cell_type": "code",
   "execution_count": 21,
   "metadata": {
    "id": "CfkRAAWV9cXS"
   },
   "outputs": [
    {
     "name": "stdout",
     "output_type": "stream",
     "text": [
      "radius = 90\n",
      "length = 2\n",
      "50893.8\n"
     ]
    }
   ],
   "source": [
    "import math\n",
    "radius = input(\"radius = \")\n",
    "length = input(\"length = \")\n",
    "area = float(radius) * float(radius) * math.pi\n",
    "volume = area * float(length)\n",
    "volume_1dp = \"{:.1f}\".format(volume)\n",
    "print(volume_1dp)"
   ]
  },
  {
   "cell_type": "markdown",
   "metadata": {
    "id": "aVhHiT8w9c7d"
   },
   "source": [
    "**Q3. (Converting miles into kilometers)**\n",
    "\n",
    "Write a program that reads a number in miles, converts it to kilometres, and outputs the result. One mile is 1.60934 kilometres. Display your answer correct to 3 decimal places."
   ]
  },
  {
   "cell_type": "code",
   "execution_count": 23,
   "metadata": {
    "id": "PwRmweEa9fny"
   },
   "outputs": [
    {
     "name": "stdout",
     "output_type": "stream",
     "text": [
      "What is the distance in miles? 9\n",
      "The distance in km is 14.484\n"
     ]
    }
   ],
   "source": [
    "distance = input(\"What is the distance in miles? \")\n",
    "distance_km = float(distance) * 1.60934\n",
    "distance_3dp = \"{:.3f}\".format(distance_km)\n",
    "print(\"The distance in km is\", distance_3dp)"
   ]
  },
  {
   "cell_type": "markdown",
   "metadata": {
    "id": "GwAIqQNY9gFd"
   },
   "source": [
    "**Q4. (Summing the digits in an integer)**\n",
    "\n",
    "Write a program that reads an integer between 0 and 1000 and adds all the digits in the integer. For example, if an integer is 932, the sum of all its digits is 14.\n",
    "\n",
    "Hint: Use the % operator to extract digits, and use the // operator to remove the extracted digit. For instance, 932 % 10 = 2 and 932 // 10 = 93"
   ]
  },
  {
   "cell_type": "code",
   "execution_count": 41,
   "metadata": {
    "id": "aOozTwoR9j9B"
   },
   "outputs": [
    {
     "name": "stdout",
     "output_type": "stream",
     "text": [
      "Enter a number between 0 to 1000 = 123\n",
      "6\n"
     ]
    }
   ],
   "source": [
    "number = input(\"Enter a number between 0 to 1000 = \")\n",
    "number_float = float(number)\n",
    "digit_1 = number_float // 100\n",
    "digit_2 = number_float //10 % 10\n",
    "digit_3 = number_float % 10\n",
    "sum_of = digit_1 + digit_2 + digit_3\n",
    "print(int(sum_of))"
   ]
  },
  {
   "cell_type": "markdown",
   "metadata": {
    "id": "lE0ScX9e9kcg"
   },
   "source": [
    "**Q5. (Converting an uppercase letter to lowercase)**\n",
    "\n",
    "Write a program that converts an uppercase letter from standard input to a lowercase letter by making use of its ASCII value.\n",
    "\n",
    "http://www.asciitable.com"
   ]
  },
  {
   "cell_type": "code",
   "execution_count": 33,
   "metadata": {
    "colab": {
     "base_uri": "https://localhost:8080/",
     "height": 52
    },
    "id": "sE_bxwDs9mf6",
    "outputId": "38a3c0e1-b5fa-4875-b987-fcc66f3f6b5b"
   },
   "outputs": [
    {
     "name": "stdout",
     "output_type": "stream",
     "text": [
      "Enter uppercase letter: Y\n",
      "y\n"
     ]
    }
   ],
   "source": [
    "upper = input(\"Enter uppercase letter: \")\n",
    "lower = ord(upper) + 32 # ordinal\n",
    "print(chr(lower))"
   ]
  },
  {
   "cell_type": "markdown",
   "metadata": {
    "id": "KSviQY0T9m7Q"
   },
   "source": [
    "**Q6. (Finding the character of an ASCII code)**\n",
    "\n",
    "Write a program that receives an ASCII value (an integer between 0 and 127) and displays its character. For example, if the user enters 97, the program displays character a.\n",
    "\n",
    "http://www.asciitable.com"
   ]
  },
  {
   "cell_type": "code",
   "execution_count": 42,
   "metadata": {
    "id": "YbH9Pbul9rK-"
   },
   "outputs": [
    {
     "name": "stdout",
     "output_type": "stream",
     "text": [
      "Type a number between 0 and 127 = 97\n",
      "a\n"
     ]
    }
   ],
   "source": [
    "number = input(\"Type a number between 0 and 127 = \")\n",
    "\n",
    "print(chr(int(number)))"
   ]
  },
  {
   "cell_type": "markdown",
   "metadata": {
    "id": "V9Z95nlg97e4"
   },
   "source": [
    "**Q7. (Payroll)**\n",
    "\n",
    "Write a program that reads in the following information and prints a payroll statement. A sample input and output session is as follows:\n",
    "\n",
    "Sample input:\n",
    "```\n",
    "Enter name: Lim Ah Seng\n",
    "Enter number of hours worked weekly: 10\n",
    "Enter hourly pay rate: 6.75\n",
    "Enter CPF contribution rate(%): 20\n",
    "```\n",
    "\n",
    "Sample output:\n",
    "```\n",
    "Payroll statement for Lim Ah Seng\n",
    "Number of hours worked in week: 10\n",
    "Hourly pay rate: $6.75\n",
    "Gross pay = $67.50\n",
    "CPF contribution at 20% = $13.50\n",
    "Net pay = $54.00\n",
    "```\n",
    "\n"
   ]
  },
  {
   "cell_type": "code",
   "execution_count": 47,
   "metadata": {
    "id": "1AZvvAW499PK"
   },
   "outputs": [
    {
     "name": "stdout",
     "output_type": "stream",
     "text": [
      "Enter name: Lim Ah Seng\n",
      "Enter number of hours worked weekly: 10\n",
      "Enter hourly pay rate: 6.75\n",
      "Enter CPF contribution rate(%): 20\n",
      "Payroll statement for  Lim Ah Seng\n",
      "Number of hours worked in week:  10\n",
      "Hourly pay rate: $ 6.75\n",
      "Gross pay = $ 67.50\n",
      "CPF contribution at 20% = $ 13.50\n",
      "Net pay = $ 54.00\n"
     ]
    }
   ],
   "source": [
    "name = input(\"Enter name: \")\n",
    "hours = input(\"Enter number of hours worked weekly: \")\n",
    "pay = input(\"Enter hourly pay rate: \")\n",
    "cpf = input(\"Enter CPF contribution rate(%): \")\n",
    "\n",
    "gross_pay = float(pay) * float(hours)\n",
    "gross_pay_format = \"{:.2f}\".format(gross_pay)\n",
    "cpf_pay = (float(cpf)/100) * gross_pay\n",
    "cpf_pay_format = \"{:.2f}\".format(cpf_pay)\n",
    "net_pay = gross_pay - cpf_pay\n",
    "net_pay_format = \"{:.2f}\".format(net_pay)\n",
    "\n",
    "print(\"Payroll statement for \",name)\n",
    "print(\"Number of hours worked in week: \",hours)\n",
    "print(\"Hourly pay rate: $\",pay)\n",
    "print(\"Gross pay = $\",gross_pay_format)\n",
    "print(\"CPF contribution at 20% = $\",cpf_pay_format)\n",
    "print(\"Net pay = $\",net_pay_format)"
   ]
  },
  {
   "cell_type": "code",
   "execution_count": null,
   "metadata": {},
   "outputs": [],
   "source": []
  }
 ],
 "metadata": {
  "colab": {
   "collapsed_sections": [],
   "name": "2022_Python_Programming_Practical_1.ipynb",
   "provenance": []
  },
  "kernelspec": {
   "display_name": "Python 3 (ipykernel)",
   "language": "python",
   "name": "python3"
  },
  "language_info": {
   "codemirror_mode": {
    "name": "ipython",
    "version": 3
   },
   "file_extension": ".py",
   "mimetype": "text/x-python",
   "name": "python",
   "nbconvert_exporter": "python",
   "pygments_lexer": "ipython3",
   "version": "3.9.7"
  }
 },
 "nbformat": 4,
 "nbformat_minor": 1
}
